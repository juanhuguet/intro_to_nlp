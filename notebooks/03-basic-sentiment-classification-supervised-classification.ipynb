{
 "cells": [
  {
   "cell_type": "markdown",
   "id": "d5c04922-68ef-4804-8806-dab4fd2c06d7",
   "metadata": {},
   "source": [
    "[![Open In Colab](https://colab.research.google.com/assets/colab-badge.svg)](https://colab.research.google.com/github/juanhuguet/intro_to_nlp/blob/main/notebooks/03-basic-sentiment-classification-supervised-classification.ipynb)"
   ]
  },
  {
   "cell_type": "markdown",
   "id": "b0590681-1228-45df-8b48-c344bba06bf2",
   "metadata": {},
   "source": [
    "# Feature extraction for ML classification"
   ]
  },
  {
   "cell_type": "markdown",
   "id": "0ef3cf57-267c-4dc2-8e7b-38cc86fa4297",
   "metadata": {},
   "source": [
    "A count vectorizer is a **feature extraction** technique in natural language processing (NLP)\n",
    "that converts a collection of text documents into a matrix of word counts.\n",
    "\n",
    "In other words, it **transforms text data into a numerical representation that machine learning models can understand and process.**"
   ]
  },
  {
   "cell_type": "code",
   "execution_count": null,
   "id": "920905ab-a635-40b9-906e-ce7796ae375d",
   "metadata": {
    "tags": []
   },
   "outputs": [],
   "source": [
    "import pandas as .."
   ]
  },
  {
   "cell_type": "code",
   "execution_count": null,
   "id": "0d5b20d6-bb8d-4951-aa33-eb21ed99ad3e",
   "metadata": {
    "tags": []
   },
   "outputs": [],
   "source": [
    "from sklearn.linear_model import ..."
   ]
  },
  {
   "cell_type": "code",
   "execution_count": null,
   "id": "6dc4c5c1-89be-489b-aff7-6116ed827ffd",
   "metadata": {
    "tags": []
   },
   "outputs": [],
   "source": [
    "from sklearn.feature_extraction.text import ..."
   ]
  },
  {
   "cell_type": "markdown",
   "id": "4e999d2a-772d-48aa-a111-06423a75cfb3",
   "metadata": {},
   "source": [
    "#### Let's simulate some reviews..."
   ]
  },
  {
   "cell_type": "code",
   "execution_count": null,
   "id": "93e7a475-0d07-44cb-87d5-fbff87a73850",
   "metadata": {
    "tags": []
   },
   "outputs": [],
   "source": [
    "reviews_docs = [\"The food was good\",\n",
    "                \"The service was bad\",\n",
    "                \"The service and the food were good\",\n",
    "               ]\n",
    "\n",
    "labels = [\"positive\",\n",
    "          \"negative\",\n",
    "          \"positive\"]"
   ]
  },
  {
   "cell_type": "markdown",
   "id": "62d84c80-1f26-4e09-89b4-b84dfff3087e",
   "metadata": {},
   "source": [
    "### Let's use scikit learn to calculate the counts vectors..."
   ]
  },
  {
   "cell_type": "markdown",
   "id": "835ce1e4-f942-4c98-a122-8fc659f4fce8",
   "metadata": {},
   "source": [
    "1. The count vectorizer takes a collection of text documents and tokenizes them into individual words.\n",
    "2. It then counts how many times each word appears in each document.\n",
    "3. Finally, it creates a matrix where each row represents a document and each column represents a word, and the values in the matrix are the word counts for each document."
   ]
  },
  {
   "cell_type": "code",
   "execution_count": null,
   "id": "9e686b0d-c5b8-4b1d-9793-e4e8671442a3",
   "metadata": {
    "tags": []
   },
   "outputs": [],
   "source": [
    "vect = ..."
   ]
  },
  {
   "cell_type": "code",
   "execution_count": null,
   "id": "c515ef3b-fd3f-471b-bd69-ec06d2ce9a3c",
   "metadata": {
    "tags": []
   },
   "outputs": [],
   "source": [
    "word_counts = vect.fit_transform(reviews_docs)"
   ]
  },
  {
   "cell_type": "markdown",
   "id": "23ae2875-2fb2-4124-ae86-15ce1c79ef25",
   "metadata": {},
   "source": [
    "### Let's inspect the results\n",
    "\n",
    "Note: the word_counts are returned as a sparse vectors, so we call the `todense()` method befor passing it to the dataframe constructor"
   ]
  },
  {
   "cell_type": "code",
   "execution_count": null,
   "id": "de81384d-e45a-482f-afeb-acb90ba09bcf",
   "metadata": {
    "tags": []
   },
   "outputs": [],
   "source": [
    "reviews = pd.DataFrame(word_counts.todense(),\n",
    "                       columns=vect.get_feature_names_out(),\n",
    "                       index=reviews_docs)"
   ]
  },
  {
   "cell_type": "code",
   "execution_count": null,
   "id": "2c05b6f6-d5af-4ed3-b697-132dab1f48cd",
   "metadata": {
    "tags": []
   },
   "outputs": [],
   "source": [
    "reviews[\"sentiment\"] = labels"
   ]
  },
  {
   "cell_type": "code",
   "execution_count": null,
   "id": "fa520e61-80a7-4374-9476-1ca7c39ec1cb",
   "metadata": {
    "tags": []
   },
   "outputs": [],
   "source": [
    "reviews"
   ]
  },
  {
   "cell_type": "markdown",
   "id": "e098f7cc-8e53-4021-b5d4-19900f345567",
   "metadata": {},
   "source": [
    "### Let's use these feature as an input for the classifier\n",
    "\n",
    "We can train a classifier like a logistic regression without explicitly having to categorise the positive or negative intent of each word as in the previous example.\n",
    "\n",
    "The algorithm will automatically infer such relationships from the vector representation and their labels.\n",
    "\n",
    "> **This means, we would have transformed the sentiment classification into a supervised machine learning classification problem**\n",
    "\n",
    "Note: the exercise here is only to demonstrate how we can learn from features extracted from text, of course, we need more examples and a proper modelling process that involves train/test split and validations..."
   ]
  },
  {
   "cell_type": "code",
   "execution_count": null,
   "id": "3ebda695-2b3c-486c-b55b-f8c15ba47541",
   "metadata": {
    "tags": []
   },
   "outputs": [],
   "source": [
    "clf_lr = ..."
   ]
  },
  {
   "cell_type": "code",
   "execution_count": null,
   "id": "0b7ea09e-ac07-422f-bc0e-bc497ec9b418",
   "metadata": {
    "tags": []
   },
   "outputs": [],
   "source": [
    "X = reviews.drop(columns=[\"sentiment\"])"
   ]
  },
  {
   "cell_type": "code",
   "execution_count": null,
   "id": "998d19b3-fd5c-43e3-85bf-e9dcf4355ab2",
   "metadata": {
    "tags": []
   },
   "outputs": [],
   "source": [
    "y = reviews[\"sentiment\"]"
   ]
  },
  {
   "cell_type": "code",
   "execution_count": null,
   "id": "35f1f4be-2bc2-43d2-beb5-b478b2b714f9",
   "metadata": {
    "tags": []
   },
   "outputs": [],
   "source": [
    "clf_lr.fit(X, y)"
   ]
  },
  {
   "cell_type": "markdown",
   "id": "c97bcde4-4648-435e-8ab9-8b51ff0a4967",
   "metadata": {},
   "source": [
    "### Let' s make a prediction..."
   ]
  },
  {
   "cell_type": "code",
   "execution_count": null,
   "id": "ca19e36e-0a95-407b-95c7-4f51455e7ad8",
   "metadata": {
    "tags": []
   },
   "outputs": [],
   "source": [
    "new_review = [\"the weather was very bad\"]"
   ]
  },
  {
   "cell_type": "code",
   "execution_count": null,
   "id": "12d29b3f-3415-4a81-9ec0-911e8d0450f5",
   "metadata": {
    "tags": []
   },
   "outputs": [],
   "source": [
    "new_review_vect = vect.transform(new_review)"
   ]
  },
  {
   "cell_type": "code",
   "execution_count": null,
   "id": "1b29af62-ce6a-48db-a9cb-75f80293c423",
   "metadata": {
    "tags": []
   },
   "outputs": [],
   "source": [
    "clf_lr.predict(new_review_vect)"
   ]
  }
 ],
 "metadata": {
  "kernelspec": {
   "display_name": "Python 3 (ipykernel)",
   "language": "python",
   "name": "python3"
  },
  "language_info": {
   "codemirror_mode": {
    "name": "ipython",
    "version": 3
   },
   "file_extension": ".py",
   "mimetype": "text/x-python",
   "name": "python",
   "nbconvert_exporter": "python",
   "pygments_lexer": "ipython3",
   "version": "3.9.6"
  }
 },
 "nbformat": 4,
 "nbformat_minor": 5
}
