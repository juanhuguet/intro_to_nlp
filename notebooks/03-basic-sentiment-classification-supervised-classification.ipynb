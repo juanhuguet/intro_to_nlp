{
 "cells": [
  {
   "cell_type": "markdown",
   "id": "d5c04922-68ef-4804-8806-dab4fd2c06d7",
   "metadata": {},
   "source": [
    "[![Open In Colab](https://colab.research.google.com/assets/colab-badge.svg)](https://colab.research.google.com/github/juanhuguet/intro_to_nlp/blob/main/notebooks/03-basic-sentiment-classification-supervised-classification.ipynb)"
   ]
  },
  {
   "cell_type": "markdown",
   "id": "b0590681-1228-45df-8b48-c344bba06bf2",
   "metadata": {},
   "source": [
    "# Basic sentiment classification using annotated data"
   ]
  },
  {
   "cell_type": "code",
   "execution_count": 1,
   "id": "920905ab-a635-40b9-906e-ce7796ae375d",
   "metadata": {
    "tags": []
   },
   "outputs": [],
   "source": [
    "import pandas as pd"
   ]
  },
  {
   "cell_type": "code",
   "execution_count": 2,
   "id": "0d5b20d6-bb8d-4951-aa33-eb21ed99ad3e",
   "metadata": {
    "tags": []
   },
   "outputs": [],
   "source": [
    "from sklearn.linear_model import LogisticRegression"
   ]
  },
  {
   "cell_type": "code",
   "execution_count": 3,
   "id": "6dc4c5c1-89be-489b-aff7-6116ed827ffd",
   "metadata": {
    "tags": []
   },
   "outputs": [],
   "source": [
    "from sklearn.feature_extraction.text import CountVectorizer"
   ]
  },
  {
   "cell_type": "markdown",
   "id": "4e999d2a-772d-48aa-a111-06423a75cfb3",
   "metadata": {},
   "source": [
    "#### Let's simulate some reviews..."
   ]
  },
  {
   "cell_type": "code",
   "execution_count": 4,
   "id": "93e7a475-0d07-44cb-87d5-fbff87a73850",
   "metadata": {
    "tags": []
   },
   "outputs": [],
   "source": [
    "reviews_docs = [\"The food was good\",\n",
    "                \"The service was bad\",\n",
    "                \"The service and the food were good\",\n",
    "               ]\n",
    "\n",
    "labels = [\"positive\",\n",
    "          \"negative\",\n",
    "          \"positive\"]"
   ]
  },
  {
   "cell_type": "markdown",
   "id": "62d84c80-1f26-4e09-89b4-b84dfff3087e",
   "metadata": {},
   "source": [
    "### Let's use scikit learn to calculate the counts vectors..."
   ]
  },
  {
   "cell_type": "code",
   "execution_count": 5,
   "id": "9e686b0d-c5b8-4b1d-9793-e4e8671442a3",
   "metadata": {
    "tags": []
   },
   "outputs": [],
   "source": [
    "vect = CountVectorizer()"
   ]
  },
  {
   "cell_type": "code",
   "execution_count": 6,
   "id": "c515ef3b-fd3f-471b-bd69-ec06d2ce9a3c",
   "metadata": {
    "tags": []
   },
   "outputs": [],
   "source": [
    "word_counts = vect.fit_transform(reviews_docs)"
   ]
  },
  {
   "cell_type": "markdown",
   "id": "23ae2875-2fb2-4124-ae86-15ce1c79ef25",
   "metadata": {},
   "source": [
    "### Let's inspect the results\n",
    "\n",
    "Note: the word_counts are returned as a sparse vectors, so we call the `todense()` method befor passing it to the dataframe constructor"
   ]
  },
  {
   "cell_type": "code",
   "execution_count": 7,
   "id": "de81384d-e45a-482f-afeb-acb90ba09bcf",
   "metadata": {
    "tags": []
   },
   "outputs": [],
   "source": [
    "reviews = pd.DataFrame(word_counts.todense(),\n",
    "                       columns=vect.get_feature_names_out(),\n",
    "                       index=reviews_docs)"
   ]
  },
  {
   "cell_type": "code",
   "execution_count": 8,
   "id": "2c05b6f6-d5af-4ed3-b697-132dab1f48cd",
   "metadata": {
    "tags": []
   },
   "outputs": [],
   "source": [
    "reviews[\"sentiment\"] = labels"
   ]
  },
  {
   "cell_type": "code",
   "execution_count": 9,
   "id": "fa520e61-80a7-4374-9476-1ca7c39ec1cb",
   "metadata": {
    "tags": []
   },
   "outputs": [
    {
     "data": {
      "text/html": [
       "<div>\n",
       "<style scoped>\n",
       "    .dataframe tbody tr th:only-of-type {\n",
       "        vertical-align: middle;\n",
       "    }\n",
       "\n",
       "    .dataframe tbody tr th {\n",
       "        vertical-align: top;\n",
       "    }\n",
       "\n",
       "    .dataframe thead th {\n",
       "        text-align: right;\n",
       "    }\n",
       "</style>\n",
       "<table border=\"1\" class=\"dataframe\">\n",
       "  <thead>\n",
       "    <tr style=\"text-align: right;\">\n",
       "      <th></th>\n",
       "      <th>and</th>\n",
       "      <th>bad</th>\n",
       "      <th>food</th>\n",
       "      <th>good</th>\n",
       "      <th>service</th>\n",
       "      <th>the</th>\n",
       "      <th>was</th>\n",
       "      <th>were</th>\n",
       "      <th>sentiment</th>\n",
       "    </tr>\n",
       "  </thead>\n",
       "  <tbody>\n",
       "    <tr>\n",
       "      <th>The food was good</th>\n",
       "      <td>0</td>\n",
       "      <td>0</td>\n",
       "      <td>1</td>\n",
       "      <td>1</td>\n",
       "      <td>0</td>\n",
       "      <td>1</td>\n",
       "      <td>1</td>\n",
       "      <td>0</td>\n",
       "      <td>positive</td>\n",
       "    </tr>\n",
       "    <tr>\n",
       "      <th>The service was bad</th>\n",
       "      <td>0</td>\n",
       "      <td>1</td>\n",
       "      <td>0</td>\n",
       "      <td>0</td>\n",
       "      <td>1</td>\n",
       "      <td>1</td>\n",
       "      <td>1</td>\n",
       "      <td>0</td>\n",
       "      <td>negative</td>\n",
       "    </tr>\n",
       "    <tr>\n",
       "      <th>The service and the food were good</th>\n",
       "      <td>1</td>\n",
       "      <td>0</td>\n",
       "      <td>1</td>\n",
       "      <td>1</td>\n",
       "      <td>1</td>\n",
       "      <td>2</td>\n",
       "      <td>0</td>\n",
       "      <td>1</td>\n",
       "      <td>positive</td>\n",
       "    </tr>\n",
       "  </tbody>\n",
       "</table>\n",
       "</div>"
      ],
      "text/plain": [
       "                                    and  bad  food  good  service  the  was   \n",
       "The food was good                     0    0     1     1        0    1    1  \\\n",
       "The service was bad                   0    1     0     0        1    1    1   \n",
       "The service and the food were good    1    0     1     1        1    2    0   \n",
       "\n",
       "                                    were sentiment  \n",
       "The food was good                      0  positive  \n",
       "The service was bad                    0  negative  \n",
       "The service and the food were good     1  positive  "
      ]
     },
     "execution_count": 9,
     "metadata": {},
     "output_type": "execute_result"
    }
   ],
   "source": [
    "reviews"
   ]
  },
  {
   "cell_type": "markdown",
   "id": "e098f7cc-8e53-4021-b5d4-19900f345567",
   "metadata": {},
   "source": [
    "### Let's use these feature as an input for the classifier\n",
    "\n",
    "Note: the exercise here is only to demonstrate how we can learn from features extracted from text, of course, we need more examples and a proper modelling process that involves train/test split and validations..."
   ]
  },
  {
   "cell_type": "code",
   "execution_count": 10,
   "id": "3ebda695-2b3c-486c-b55b-f8c15ba47541",
   "metadata": {
    "tags": []
   },
   "outputs": [],
   "source": [
    "clf_lr = LogisticRegression()"
   ]
  },
  {
   "cell_type": "code",
   "execution_count": 11,
   "id": "0b7ea09e-ac07-422f-bc0e-bc497ec9b418",
   "metadata": {
    "tags": []
   },
   "outputs": [],
   "source": [
    "X = reviews.drop(columns=[\"sentiment\"])"
   ]
  },
  {
   "cell_type": "code",
   "execution_count": 12,
   "id": "998d19b3-fd5c-43e3-85bf-e9dcf4355ab2",
   "metadata": {
    "tags": []
   },
   "outputs": [],
   "source": [
    "y = reviews[\"sentiment\"]"
   ]
  },
  {
   "cell_type": "code",
   "execution_count": 13,
   "id": "35f1f4be-2bc2-43d2-beb5-b478b2b714f9",
   "metadata": {
    "tags": []
   },
   "outputs": [
    {
     "data": {
      "text/html": [
       "<style>#sk-container-id-1 {color: black;background-color: white;}#sk-container-id-1 pre{padding: 0;}#sk-container-id-1 div.sk-toggleable {background-color: white;}#sk-container-id-1 label.sk-toggleable__label {cursor: pointer;display: block;width: 100%;margin-bottom: 0;padding: 0.3em;box-sizing: border-box;text-align: center;}#sk-container-id-1 label.sk-toggleable__label-arrow:before {content: \"▸\";float: left;margin-right: 0.25em;color: #696969;}#sk-container-id-1 label.sk-toggleable__label-arrow:hover:before {color: black;}#sk-container-id-1 div.sk-estimator:hover label.sk-toggleable__label-arrow:before {color: black;}#sk-container-id-1 div.sk-toggleable__content {max-height: 0;max-width: 0;overflow: hidden;text-align: left;background-color: #f0f8ff;}#sk-container-id-1 div.sk-toggleable__content pre {margin: 0.2em;color: black;border-radius: 0.25em;background-color: #f0f8ff;}#sk-container-id-1 input.sk-toggleable__control:checked~div.sk-toggleable__content {max-height: 200px;max-width: 100%;overflow: auto;}#sk-container-id-1 input.sk-toggleable__control:checked~label.sk-toggleable__label-arrow:before {content: \"▾\";}#sk-container-id-1 div.sk-estimator input.sk-toggleable__control:checked~label.sk-toggleable__label {background-color: #d4ebff;}#sk-container-id-1 div.sk-label input.sk-toggleable__control:checked~label.sk-toggleable__label {background-color: #d4ebff;}#sk-container-id-1 input.sk-hidden--visually {border: 0;clip: rect(1px 1px 1px 1px);clip: rect(1px, 1px, 1px, 1px);height: 1px;margin: -1px;overflow: hidden;padding: 0;position: absolute;width: 1px;}#sk-container-id-1 div.sk-estimator {font-family: monospace;background-color: #f0f8ff;border: 1px dotted black;border-radius: 0.25em;box-sizing: border-box;margin-bottom: 0.5em;}#sk-container-id-1 div.sk-estimator:hover {background-color: #d4ebff;}#sk-container-id-1 div.sk-parallel-item::after {content: \"\";width: 100%;border-bottom: 1px solid gray;flex-grow: 1;}#sk-container-id-1 div.sk-label:hover label.sk-toggleable__label {background-color: #d4ebff;}#sk-container-id-1 div.sk-serial::before {content: \"\";position: absolute;border-left: 1px solid gray;box-sizing: border-box;top: 0;bottom: 0;left: 50%;z-index: 0;}#sk-container-id-1 div.sk-serial {display: flex;flex-direction: column;align-items: center;background-color: white;padding-right: 0.2em;padding-left: 0.2em;position: relative;}#sk-container-id-1 div.sk-item {position: relative;z-index: 1;}#sk-container-id-1 div.sk-parallel {display: flex;align-items: stretch;justify-content: center;background-color: white;position: relative;}#sk-container-id-1 div.sk-item::before, #sk-container-id-1 div.sk-parallel-item::before {content: \"\";position: absolute;border-left: 1px solid gray;box-sizing: border-box;top: 0;bottom: 0;left: 50%;z-index: -1;}#sk-container-id-1 div.sk-parallel-item {display: flex;flex-direction: column;z-index: 1;position: relative;background-color: white;}#sk-container-id-1 div.sk-parallel-item:first-child::after {align-self: flex-end;width: 50%;}#sk-container-id-1 div.sk-parallel-item:last-child::after {align-self: flex-start;width: 50%;}#sk-container-id-1 div.sk-parallel-item:only-child::after {width: 0;}#sk-container-id-1 div.sk-dashed-wrapped {border: 1px dashed gray;margin: 0 0.4em 0.5em 0.4em;box-sizing: border-box;padding-bottom: 0.4em;background-color: white;}#sk-container-id-1 div.sk-label label {font-family: monospace;font-weight: bold;display: inline-block;line-height: 1.2em;}#sk-container-id-1 div.sk-label-container {text-align: center;}#sk-container-id-1 div.sk-container {/* jupyter's `normalize.less` sets `[hidden] { display: none; }` but bootstrap.min.css set `[hidden] { display: none !important; }` so we also need the `!important` here to be able to override the default hidden behavior on the sphinx rendered scikit-learn.org. See: https://github.com/scikit-learn/scikit-learn/issues/21755 */display: inline-block !important;position: relative;}#sk-container-id-1 div.sk-text-repr-fallback {display: none;}</style><div id=\"sk-container-id-1\" class=\"sk-top-container\"><div class=\"sk-text-repr-fallback\"><pre>LogisticRegression()</pre><b>In a Jupyter environment, please rerun this cell to show the HTML representation or trust the notebook. <br />On GitHub, the HTML representation is unable to render, please try loading this page with nbviewer.org.</b></div><div class=\"sk-container\" hidden><div class=\"sk-item\"><div class=\"sk-estimator sk-toggleable\"><input class=\"sk-toggleable__control sk-hidden--visually\" id=\"sk-estimator-id-1\" type=\"checkbox\" checked><label for=\"sk-estimator-id-1\" class=\"sk-toggleable__label sk-toggleable__label-arrow\">LogisticRegression</label><div class=\"sk-toggleable__content\"><pre>LogisticRegression()</pre></div></div></div></div></div>"
      ],
      "text/plain": [
       "LogisticRegression()"
      ]
     },
     "execution_count": 13,
     "metadata": {},
     "output_type": "execute_result"
    }
   ],
   "source": [
    "clf_lr.fit(X, y)"
   ]
  },
  {
   "cell_type": "markdown",
   "id": "c97bcde4-4648-435e-8ab9-8b51ff0a4967",
   "metadata": {},
   "source": [
    "### Let' s make a prediction..."
   ]
  },
  {
   "cell_type": "code",
   "execution_count": 14,
   "id": "ca19e36e-0a95-407b-95c7-4f51455e7ad8",
   "metadata": {
    "tags": []
   },
   "outputs": [],
   "source": [
    "new_review = [\"the weather was very bad\"]"
   ]
  },
  {
   "cell_type": "code",
   "execution_count": 15,
   "id": "12d29b3f-3415-4a81-9ec0-911e8d0450f5",
   "metadata": {
    "tags": []
   },
   "outputs": [],
   "source": [
    "new_review_vect = vect.transform(new_review)"
   ]
  },
  {
   "cell_type": "code",
   "execution_count": 16,
   "id": "1b29af62-ce6a-48db-a9cb-75f80293c423",
   "metadata": {
    "tags": []
   },
   "outputs": [
    {
     "name": "stderr",
     "output_type": "stream",
     "text": [
      "/Users/jhuguet/Library/Caches/pypoetry/virtualenvs/nlp-workshop-pVJHvytM-py3.9/lib/python3.9/site-packages/sklearn/base.py:439: UserWarning: X does not have valid feature names, but LogisticRegression was fitted with feature names\n",
      "  warnings.warn(\n"
     ]
    },
    {
     "data": {
      "text/plain": [
       "array(['negative'], dtype=object)"
      ]
     },
     "execution_count": 16,
     "metadata": {},
     "output_type": "execute_result"
    }
   ],
   "source": [
    "clf_lr.predict(new_review_vect)"
   ]
  },
  {
   "cell_type": "code",
   "execution_count": null,
   "id": "e5336002-1a72-470c-80a4-1479a31d77d0",
   "metadata": {},
   "outputs": [],
   "source": []
  }
 ],
 "metadata": {
  "kernelspec": {
   "display_name": "Python 3 (ipykernel)",
   "language": "python",
   "name": "python3"
  },
  "language_info": {
   "codemirror_mode": {
    "name": "ipython",
    "version": 3
   },
   "file_extension": ".py",
   "mimetype": "text/x-python",
   "name": "python",
   "nbconvert_exporter": "python",
   "pygments_lexer": "ipython3",
   "version": "3.9.16"
  }
 },
 "nbformat": 4,
 "nbformat_minor": 5
}
