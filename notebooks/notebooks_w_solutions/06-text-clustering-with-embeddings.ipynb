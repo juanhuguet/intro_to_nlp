{
 "cells": [
  {
   "cell_type": "markdown",
   "id": "ad47cd1b-b1e0-44af-b48c-163a516b9ef9",
   "metadata": {},
   "source": [
    "[![Open In Colab](https://colab.research.google.com/assets/colab-badge.svg)](https://colab.research.google.com/github/juanhuguet/intro_to_nlp/blob/main/notebooks/06-text-clustering-with-embeddings.ipynb)"
   ]
  },
  {
   "cell_type": "code",
   "execution_count": 1,
   "id": "db1351f7-cde6-4dc9-b550-847ffc3b7654",
   "metadata": {
    "tags": []
   },
   "outputs": [],
   "source": [
    "import warnings"
   ]
  },
  {
   "cell_type": "code",
   "execution_count": 2,
   "id": "aa22a962-0811-4849-a53d-3f8ece2ae5fe",
   "metadata": {
    "tags": []
   },
   "outputs": [],
   "source": [
    "warnings.filterwarnings(\"ignore\")"
   ]
  },
  {
   "cell_type": "code",
   "execution_count": 3,
   "id": "715b502b-186c-45f5-8140-4bf042f7f385",
   "metadata": {
    "tags": []
   },
   "outputs": [],
   "source": [
    "import subprocess\n",
    "import sys\n",
    "\n",
    "def install(package):\n",
    "    subprocess.check_call([sys.executable, \"-m\", \"pip\", \"install\", package])\n",
    "    \n",
    "try:\n",
    "    from datasets import load_dataset\n",
    "except:\n",
    "    install(\"datasets\")\n",
    "    from datasets import load_dataset"
   ]
  },
  {
   "cell_type": "code",
   "execution_count": 4,
   "id": "ec99609b-dbb0-44c4-9148-7bc5e1b92ab3",
   "metadata": {
    "tags": []
   },
   "outputs": [],
   "source": [
    "import pandas as pd"
   ]
  },
  {
   "cell_type": "markdown",
   "id": "69a49616-6687-4496-bd88-40743bf97757",
   "metadata": {},
   "source": [
    "### Load the dataset"
   ]
  },
  {
   "cell_type": "code",
   "execution_count": 5,
   "id": "236eb8d6-cb7d-4556-a996-359696f48727",
   "metadata": {
    "tags": []
   },
   "outputs": [
    {
     "name": "stderr",
     "output_type": "stream",
     "text": [
      "Found cached dataset parquet (/Users/jhuguet/.cache/huggingface/datasets/parquet/yelp_review_full-9c7006f5a2e02666/0.0.0/2a3b91fbd88a2c90d1dbbb32b460cf621d31bd5b05b934492fdef7d8d6f236ec)\n"
     ]
    },
    {
     "data": {
      "application/vnd.jupyter.widget-view+json": {
       "model_id": "2aa363b285934f44ae52b6488226e0c6",
       "version_major": 2,
       "version_minor": 0
      },
      "text/plain": [
       "  0%|          | 0/2 [00:00<?, ?it/s]"
      ]
     },
     "metadata": {},
     "output_type": "display_data"
    }
   ],
   "source": [
    "dataset = load_dataset(\"yelp_review_full\")"
   ]
  },
  {
   "cell_type": "markdown",
   "id": "85b61c78-af3d-4f50-9782-875588e6f1d1",
   "metadata": {},
   "source": [
    "### Convert it to pandas a random sample of 1000 articles"
   ]
  },
  {
   "cell_type": "code",
   "execution_count": 6,
   "id": "502292f3-0e25-41bd-92fe-71f07fb937bb",
   "metadata": {
    "tags": []
   },
   "outputs": [
    {
     "name": "stderr",
     "output_type": "stream",
     "text": [
      "Loading cached shuffled indices for dataset at /Users/jhuguet/.cache/huggingface/datasets/parquet/yelp_review_full-9c7006f5a2e02666/0.0.0/2a3b91fbd88a2c90d1dbbb32b460cf621d31bd5b05b934492fdef7d8d6f236ec/cache-ac75a2c7407787bc.arrow\n"
     ]
    }
   ],
   "source": [
    "df = pd.DataFrame(dataset[\"train\"].shuffle(42).select(range(100)))"
   ]
  },
  {
   "cell_type": "markdown",
   "id": "0e3320c8-ff31-470f-b402-a018ab2f9896",
   "metadata": {},
   "source": [
    "## Embedd sentences"
   ]
  },
  {
   "cell_type": "code",
   "execution_count": 7,
   "id": "464592b5-6404-4cde-bff8-558c613cb73e",
   "metadata": {
    "tags": []
   },
   "outputs": [],
   "source": [
    "try:\n",
    "    from sentence_transformers import SentenceTransformer\n",
    "except:\n",
    "    install(\"sentence-transformers\")\n",
    "    from sentence_transformers import SentenceTransformer"
   ]
  },
  {
   "cell_type": "code",
   "execution_count": 8,
   "id": "f4de79bf-61ce-4716-afed-e3bf7adcf134",
   "metadata": {
    "scrolled": true,
    "tags": []
   },
   "outputs": [],
   "source": [
    "model = SentenceTransformer(\"distiluse-base-multilingual-cased-v2\", device=\"mps\")"
   ]
  },
  {
   "cell_type": "code",
   "execution_count": 9,
   "id": "4bd43cb7-8bcc-48e3-88f7-07bfdcab5b34",
   "metadata": {
    "tags": []
   },
   "outputs": [],
   "source": [
    "sentence_embedding = model.encode(\"This is a sentence about cats\")"
   ]
  },
  {
   "cell_type": "code",
   "execution_count": 10,
   "id": "e6a0f791-b315-478c-b9ba-26c625d237cc",
   "metadata": {
    "tags": []
   },
   "outputs": [
    {
     "data": {
      "text/plain": [
       "(512,)"
      ]
     },
     "execution_count": 10,
     "metadata": {},
     "output_type": "execute_result"
    }
   ],
   "source": [
    "sentence_embedding.shape"
   ]
  },
  {
   "cell_type": "markdown",
   "id": "86f8ca62-617f-4b9a-a3d7-8629bd6a0c53",
   "metadata": {},
   "source": [
    "## Get sentence embeddings for all texts"
   ]
  },
  {
   "cell_type": "code",
   "execution_count": 11,
   "id": "9025d612-041e-4180-a992-e0a5968eb240",
   "metadata": {
    "tags": []
   },
   "outputs": [],
   "source": [
    "from tqdm import tqdm\n",
    "tqdm.pandas()"
   ]
  },
  {
   "cell_type": "code",
   "execution_count": 12,
   "id": "9e6d2e3b-b56b-4500-bbb2-10c683e4289e",
   "metadata": {
    "tags": []
   },
   "outputs": [
    {
     "name": "stderr",
     "output_type": "stream",
     "text": [
      "100%|████████████████████████████████████████████████████████████████████████████████████████████████████████████████████████████████| 100/100 [00:05<00:00, 19.95it/s]\n"
     ]
    }
   ],
   "source": [
    "df[\"embedding\"] = df[\"text\"].progress_apply(model.encode)"
   ]
  },
  {
   "cell_type": "markdown",
   "id": "ba7cc3b6-ed75-4ca5-a652-b37e6a487a7d",
   "metadata": {},
   "source": [
    "## Let's reduce the dimensionality and visualize the data in 2d"
   ]
  },
  {
   "cell_type": "code",
   "execution_count": 13,
   "id": "f5d1a96a-ad20-4f62-bd92-c76d7b31008f",
   "metadata": {
    "tags": []
   },
   "outputs": [],
   "source": [
    "try:\n",
    "    import umap\n",
    "except:\n",
    "    install(\"umap-learn\")\n",
    "    import umap"
   ]
  },
  {
   "cell_type": "code",
   "execution_count": 14,
   "id": "0466c576-6eea-4c03-9534-41e3abf2720e",
   "metadata": {
    "tags": []
   },
   "outputs": [],
   "source": [
    "def reduce_dimensions(embeddings,\n",
    "                      n_components=2,\n",
    "                      n_neighbors=8,\n",
    "                      random_state = 42):\n",
    "    \n",
    "    umap_embeddings = (umap.UMAP(n_neighbors=n_neighbors, \n",
    "                                n_components=n_components, \n",
    "                                metric='cosine',\n",
    "                                 n_epochs=10,\n",
    "                                random_state=random_state)\n",
    "                            .fit_transform(embeddings))\n",
    "    df = pd.DataFrame(umap_embeddings, index=embeddings.index)\n",
    "    return df"
   ]
  },
  {
   "cell_type": "code",
   "execution_count": 15,
   "id": "9ab4e7ad-7cd1-4fd2-8f8c-5aedadc7e5da",
   "metadata": {
    "tags": []
   },
   "outputs": [],
   "source": [
    "embeddings = df[\"embedding\"].apply(pd.Series)"
   ]
  },
  {
   "cell_type": "code",
   "execution_count": 16,
   "id": "e299273b-2278-4819-b93d-d81c542229d1",
   "metadata": {
    "tags": []
   },
   "outputs": [],
   "source": [
    "embeddings_2d = reduce_dimensions(embeddings)"
   ]
  },
  {
   "cell_type": "code",
   "execution_count": 17,
   "id": "f98b7de8-357f-42f6-b62b-5f7f1823ce9b",
   "metadata": {
    "tags": []
   },
   "outputs": [
    {
     "data": {
      "text/html": [
       "<div>\n",
       "<style scoped>\n",
       "    .dataframe tbody tr th:only-of-type {\n",
       "        vertical-align: middle;\n",
       "    }\n",
       "\n",
       "    .dataframe tbody tr th {\n",
       "        vertical-align: top;\n",
       "    }\n",
       "\n",
       "    .dataframe thead th {\n",
       "        text-align: right;\n",
       "    }\n",
       "</style>\n",
       "<table border=\"1\" class=\"dataframe\">\n",
       "  <thead>\n",
       "    <tr style=\"text-align: right;\">\n",
       "      <th></th>\n",
       "      <th>0</th>\n",
       "      <th>1</th>\n",
       "    </tr>\n",
       "  </thead>\n",
       "  <tbody>\n",
       "    <tr>\n",
       "      <th>0</th>\n",
       "      <td>4.582953</td>\n",
       "      <td>7.297440</td>\n",
       "    </tr>\n",
       "    <tr>\n",
       "      <th>1</th>\n",
       "      <td>7.287442</td>\n",
       "      <td>5.730351</td>\n",
       "    </tr>\n",
       "    <tr>\n",
       "      <th>2</th>\n",
       "      <td>4.089309</td>\n",
       "      <td>3.137320</td>\n",
       "    </tr>\n",
       "    <tr>\n",
       "      <th>3</th>\n",
       "      <td>5.310508</td>\n",
       "      <td>7.148458</td>\n",
       "    </tr>\n",
       "    <tr>\n",
       "      <th>4</th>\n",
       "      <td>7.610355</td>\n",
       "      <td>9.491283</td>\n",
       "    </tr>\n",
       "    <tr>\n",
       "      <th>...</th>\n",
       "      <td>...</td>\n",
       "      <td>...</td>\n",
       "    </tr>\n",
       "    <tr>\n",
       "      <th>95</th>\n",
       "      <td>5.571242</td>\n",
       "      <td>5.182975</td>\n",
       "    </tr>\n",
       "    <tr>\n",
       "      <th>96</th>\n",
       "      <td>7.433656</td>\n",
       "      <td>5.880714</td>\n",
       "    </tr>\n",
       "    <tr>\n",
       "      <th>97</th>\n",
       "      <td>3.884577</td>\n",
       "      <td>8.346283</td>\n",
       "    </tr>\n",
       "    <tr>\n",
       "      <th>98</th>\n",
       "      <td>7.841904</td>\n",
       "      <td>6.366492</td>\n",
       "    </tr>\n",
       "    <tr>\n",
       "      <th>99</th>\n",
       "      <td>6.313665</td>\n",
       "      <td>5.928082</td>\n",
       "    </tr>\n",
       "  </tbody>\n",
       "</table>\n",
       "<p>100 rows × 2 columns</p>\n",
       "</div>"
      ],
      "text/plain": [
       "           0         1\n",
       "0   4.582953  7.297440\n",
       "1   7.287442  5.730351\n",
       "2   4.089309  3.137320\n",
       "3   5.310508  7.148458\n",
       "4   7.610355  9.491283\n",
       "..       ...       ...\n",
       "95  5.571242  5.182975\n",
       "96  7.433656  5.880714\n",
       "97  3.884577  8.346283\n",
       "98  7.841904  6.366492\n",
       "99  6.313665  5.928082\n",
       "\n",
       "[100 rows x 2 columns]"
      ]
     },
     "execution_count": 17,
     "metadata": {},
     "output_type": "execute_result"
    }
   ],
   "source": [
    "embeddings_2d"
   ]
  },
  {
   "cell_type": "markdown",
   "id": "cef2bebe-1378-4713-b844-b5836382e5e7",
   "metadata": {},
   "source": [
    "### Let's visualize them..."
   ]
  },
  {
   "cell_type": "code",
   "execution_count": 18,
   "id": "6e506e8b-844b-4734-9789-ce0c0f6ba108",
   "metadata": {
    "tags": []
   },
   "outputs": [],
   "source": [
    "import seaborn as sns"
   ]
  },
  {
   "cell_type": "code",
   "execution_count": 19,
   "id": "ad72415a-d9ed-4ab8-acb5-1d5b05cc26fb",
   "metadata": {
    "tags": []
   },
   "outputs": [
    {
     "data": {
      "text/plain": [
       "<Axes: xlabel='0', ylabel='1'>"
      ]
     },
     "execution_count": 19,
     "metadata": {},
     "output_type": "execute_result"
    },
    {
     "data": {
      "image/png": "[encoded data removed]",
      "text/plain": [
       "<Figure size 640x480 with 1 Axes>"
      ]
     },
     "metadata": {},
     "output_type": "display_data"
    }
   ],
   "source": [
    "sns.scatterplot(embeddings_2d, x=0, y=1)"
   ]
  },
  {
   "cell_type": "markdown",
   "id": "05b1b921-be84-4a2b-bfb4-5ce41c3e314f",
   "metadata": {},
   "source": [
    "Nice, let's see if we can cluster them...."
   ]
  },
  {
   "cell_type": "code",
   "execution_count": 20,
   "id": "b6026c28-2b06-4731-8ef2-3a06c6a09c28",
   "metadata": {
    "tags": []
   },
   "outputs": [],
   "source": [
    "from sklearn.cluster import AgglomerativeClustering"
   ]
  },
  {
   "cell_type": "code",
   "execution_count": 21,
   "id": "b846ca1d-00f8-4f9d-a631-594b8883b724",
   "metadata": {
    "tags": []
   },
   "outputs": [],
   "source": [
    "clst = AgglomerativeClustering(n_clusters=10)"
   ]
  },
  {
   "cell_type": "code",
   "execution_count": 22,
   "id": "29476591-547b-4f65-8011-25f444d332ad",
   "metadata": {
    "tags": []
   },
   "outputs": [],
   "source": [
    "clusters = clst.fit_predict(embeddings)"
   ]
  },
  {
   "cell_type": "markdown",
   "id": "4ae66afd-dccd-4847-ab5a-fda1762b543d",
   "metadata": {},
   "source": [
    "## Let's assign the clusters to the visualization"
   ]
  },
  {
   "cell_type": "code",
   "execution_count": 23,
   "id": "aaec9ce1-41cd-4e7b-b2f4-6a8543ff021f",
   "metadata": {
    "tags": []
   },
   "outputs": [
    {
     "data": {
      "text/plain": [
       "<Axes: xlabel='0', ylabel='1'>"
      ]
     },
     "execution_count": 23,
     "metadata": {},
     "output_type": "execute_result"
    },
    {
     "data": {
      "image/png": "[encoded data removed]",
      "text/plain": [
       "<Figure size 640x480 with 1 Axes>"
      ]
     },
     "metadata": {},
     "output_type": "display_data"
    }
   ],
   "source": [
    "sns.scatterplot(embeddings_2d, x=0, y=1, c=clusters)"
   ]
  },
  {
   "cell_type": "markdown",
   "id": "0cebcf75-75a2-40da-adba-06ecbc6dcf4a",
   "metadata": {},
   "source": [
    "## Now, let's review the contents of the clusters..."
   ]
  },
  {
   "cell_type": "code",
   "execution_count": 24,
   "id": "4b843b42-81fa-4f90-847a-dd0d1e67a0e3",
   "metadata": {
    "tags": []
   },
   "outputs": [],
   "source": [
    "df[\"cluster\"] = clusters"
   ]
  },
  {
   "cell_type": "code",
   "execution_count": 25,
   "id": "8f4b7ace-093c-4532-ae2c-ae3b317af03f",
   "metadata": {
    "tags": []
   },
   "outputs": [
    {
     "data": {
      "text/html": [
       "<div>\n",
       "<style scoped>\n",
       "    .dataframe tbody tr th:only-of-type {\n",
       "        vertical-align: middle;\n",
       "    }\n",
       "\n",
       "    .dataframe tbody tr th {\n",
       "        vertical-align: top;\n",
       "    }\n",
       "\n",
       "    .dataframe thead th {\n",
       "        text-align: right;\n",
       "    }\n",
       "</style>\n",
       "<table border=\"1\" class=\"dataframe\">\n",
       "  <thead>\n",
       "    <tr style=\"text-align: right;\">\n",
       "      <th></th>\n",
       "      <th>label</th>\n",
       "      <th>text</th>\n",
       "      <th>embedding</th>\n",
       "      <th>cluster</th>\n",
       "    </tr>\n",
       "  </thead>\n",
       "  <tbody>\n",
       "    <tr>\n",
       "      <th>60</th>\n",
       "      <td>3</td>\n",
       "      <td>I saw Keith Urban and LIttle Big Town recently...</td>\n",
       "      <td>[-0.020935792, 0.04731756, 0.0023588198, -0.00...</td>\n",
       "      <td>0</td>\n",
       "    </tr>\n",
       "    <tr>\n",
       "      <th>30</th>\n",
       "      <td>3</td>\n",
       "      <td>i don't doubt that many people have bad experi...</td>\n",
       "      <td>[-0.045689143, 0.027873263, 0.045172866, -0.00...</td>\n",
       "      <td>0</td>\n",
       "    </tr>\n",
       "    <tr>\n",
       "      <th>79</th>\n",
       "      <td>1</td>\n",
       "      <td>Very Trendy hotel!!!  \\n\\nA friend was able to...</td>\n",
       "      <td>[-0.026664227, 0.06692223, -0.021216027, -0.02...</td>\n",
       "      <td>0</td>\n",
       "    </tr>\n",
       "    <tr>\n",
       "      <th>31</th>\n",
       "      <td>2</td>\n",
       "      <td>This is a fun place to stay when you don't wan...</td>\n",
       "      <td>[0.027480721, -0.005924307, -0.004701231, 0.00...</td>\n",
       "      <td>0</td>\n",
       "    </tr>\n",
       "    <tr>\n",
       "      <th>84</th>\n",
       "      <td>1</td>\n",
       "      <td>Difficult to find.  Annoying bar setup with mo...</td>\n",
       "      <td>[0.034944598, 0.03586732, 0.06934322, -0.02204...</td>\n",
       "      <td>0</td>\n",
       "    </tr>\n",
       "    <tr>\n",
       "      <th>...</th>\n",
       "      <td>...</td>\n",
       "      <td>...</td>\n",
       "      <td>...</td>\n",
       "      <td>...</td>\n",
       "    </tr>\n",
       "    <tr>\n",
       "      <th>34</th>\n",
       "      <td>0</td>\n",
       "      <td>My wife and I left this evening (Cinco de Mayo...</td>\n",
       "      <td>[-0.058781028, -0.020392846, -0.006820299, -0....</td>\n",
       "      <td>9</td>\n",
       "    </tr>\n",
       "    <tr>\n",
       "      <th>36</th>\n",
       "      <td>2</td>\n",
       "      <td>For our weekly pizza delivery, we decided to t...</td>\n",
       "      <td>[-0.04530296, 0.048155118, -0.032729574, 0.011...</td>\n",
       "      <td>9</td>\n",
       "    </tr>\n",
       "    <tr>\n",
       "      <th>7</th>\n",
       "      <td>0</td>\n",
       "      <td>I went to Sole on the weekend and found that i...</td>\n",
       "      <td>[-0.0066106534, 0.037963897, 0.041608572, 0.02...</td>\n",
       "      <td>9</td>\n",
       "    </tr>\n",
       "    <tr>\n",
       "      <th>85</th>\n",
       "      <td>3</td>\n",
       "      <td>I guess we arrived right after their rush hour...</td>\n",
       "      <td>[-0.042273503, 0.0513995, 0.047273364, 0.00568...</td>\n",
       "      <td>9</td>\n",
       "    </tr>\n",
       "    <tr>\n",
       "      <th>99</th>\n",
       "      <td>3</td>\n",
       "      <td>Went here with my roommate last week for a lat...</td>\n",
       "      <td>[-0.038180728, -0.018966893, -0.0039706207, 0....</td>\n",
       "      <td>9</td>\n",
       "    </tr>\n",
       "  </tbody>\n",
       "</table>\n",
       "<p>100 rows × 4 columns</p>\n",
       "</div>"
      ],
      "text/plain": [
       "    label                                               text   \n",
       "60      3  I saw Keith Urban and LIttle Big Town recently...  \\\n",
       "30      3  i don't doubt that many people have bad experi...   \n",
       "79      1  Very Trendy hotel!!!  \\n\\nA friend was able to...   \n",
       "31      2  This is a fun place to stay when you don't wan...   \n",
       "84      1  Difficult to find.  Annoying bar setup with mo...   \n",
       "..    ...                                                ...   \n",
       "34      0  My wife and I left this evening (Cinco de Mayo...   \n",
       "36      2  For our weekly pizza delivery, we decided to t...   \n",
       "7       0  I went to Sole on the weekend and found that i...   \n",
       "85      3  I guess we arrived right after their rush hour...   \n",
       "99      3  Went here with my roommate last week for a lat...   \n",
       "\n",
       "                                            embedding  cluster  \n",
       "60  [-0.020935792, 0.04731756, 0.0023588198, -0.00...        0  \n",
       "30  [-0.045689143, 0.027873263, 0.045172866, -0.00...        0  \n",
       "79  [-0.026664227, 0.06692223, -0.021216027, -0.02...        0  \n",
       "31  [0.027480721, -0.005924307, -0.004701231, 0.00...        0  \n",
       "84  [0.034944598, 0.03586732, 0.06934322, -0.02204...        0  \n",
       "..                                                ...      ...  \n",
       "34  [-0.058781028, -0.020392846, -0.006820299, -0....        9  \n",
       "36  [-0.04530296, 0.048155118, -0.032729574, 0.011...        9  \n",
       "7   [-0.0066106534, 0.037963897, 0.041608572, 0.02...        9  \n",
       "85  [-0.042273503, 0.0513995, 0.047273364, 0.00568...        9  \n",
       "99  [-0.038180728, -0.018966893, -0.0039706207, 0....        9  \n",
       "\n",
       "[100 rows x 4 columns]"
      ]
     },
     "execution_count": 25,
     "metadata": {},
     "output_type": "execute_result"
    }
   ],
   "source": [
    "df.sort_values(by=\"cluster\")"
   ]
  },
  {
   "cell_type": "code",
   "execution_count": 26,
   "id": "a1a977c8-35dd-44b1-a40a-616762ce8cd7",
   "metadata": {
    "tags": []
   },
   "outputs": [
    {
     "data": {
      "text/plain": [
       "7     I went to Sole on the weekend and found that i...\n",
       "27    My friend was in the mood for Mexican food so ...\n",
       "34    My wife and I left this evening (Cinco de Mayo...\n",
       "36    For our weekly pizza delivery, we decided to t...\n",
       "70    Breakfast to die for!!!\\n\\nMy wife and I got i...\n",
       "71    They weren't busy so the server was on the mon...\n",
       "73    Came here on a Tues night at 6pm. Warning. If ...\n",
       "80    I am a big fun of French food and patisserie, ...\n",
       "85    I guess we arrived right after their rush hour...\n",
       "90    My wife and I had dinner there last night. It ...\n",
       "99    Went here with my roommate last week for a lat...\n",
       "Name: text, dtype: object"
      ]
     },
     "execution_count": 26,
     "metadata": {},
     "output_type": "execute_result"
    }
   ],
   "source": [
    "df.loc[df[\"cluster\"] == 9, \"text\"]"
   ]
  }
 ],
 "metadata": {
  "kernelspec": {
   "display_name": "Python 3 (ipykernel)",
   "language": "python",
   "name": "python3"
  },
  "language_info": {
   "codemirror_mode": {
    "name": "ipython",
    "version": 3
   },
   "file_extension": ".py",
   "mimetype": "text/x-python",
   "name": "python",
   "nbconvert_exporter": "python",
   "pygments_lexer": "ipython3",
   "version": "3.9.6"
  }
 },
 "nbformat": 4,
 "nbformat_minor": 5
}
