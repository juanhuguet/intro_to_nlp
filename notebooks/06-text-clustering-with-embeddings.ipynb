{
 "cells": [
  {
   "cell_type": "markdown",
   "id": "ad47cd1b-b1e0-44af-b48c-163a516b9ef9",
   "metadata": {},
   "source": [
    "[![Open In Colab](https://colab.research.google.com/assets/colab-badge.svg)](https://colab.research.google.com/github/juanhuguet/intro_to_nlp/blob/main/notebooks/06-text-clustering-with-embeddings.ipynb)"
   ]
  },
  {
   "cell_type": "code",
   "execution_count": null,
   "id": "db1351f7-cde6-4dc9-b550-847ffc3b7654",
   "metadata": {
    "tags": []
   },
   "outputs": [],
   "source": [
    "import warnings"
   ]
  },
  {
   "cell_type": "code",
   "execution_count": null,
   "id": "aa22a962-0811-4849-a53d-3f8ece2ae5fe",
   "metadata": {
    "tags": []
   },
   "outputs": [],
   "source": [
    "warnings.filterwarnings(\"ignore\")"
   ]
  },
  {
   "cell_type": "code",
   "execution_count": null,
   "id": "715b502b-186c-45f5-8140-4bf042f7f385",
   "metadata": {
    "tags": []
   },
   "outputs": [],
   "source": [
    "import subprocess\n",
    "import sys\n",
    "\n",
    "def install(package):\n",
    "    subprocess.check_call([sys.executable, \"-m\", \"pip\", \"install\", package])\n",
    "    \n",
    "try:\n",
    "    from datasets import load_dataset\n",
    "except:\n",
    "    install(\"datasets\")\n",
    "    from datasets import load_dataset"
   ]
  },
  {
   "cell_type": "code",
   "execution_count": null,
   "id": "ec99609b-dbb0-44c4-9148-7bc5e1b92ab3",
   "metadata": {
    "tags": []
   },
   "outputs": [],
   "source": [
    "import pandas as pd"
   ]
  },
  {
   "cell_type": "markdown",
   "id": "69a49616-6687-4496-bd88-40743bf97757",
   "metadata": {},
   "source": [
    "### Load the dataset"
   ]
  },
  {
   "cell_type": "code",
   "execution_count": null,
   "id": "236eb8d6-cb7d-4556-a996-359696f48727",
   "metadata": {
    "tags": []
   },
   "outputs": [],
   "source": [
    "dataset = load_dataset(\"yelp_review_full\")"
   ]
  },
  {
   "cell_type": "markdown",
   "id": "85b61c78-af3d-4f50-9782-875588e6f1d1",
   "metadata": {},
   "source": [
    "### Convert it to pandas a random sample of 1000 articles"
   ]
  },
  {
   "cell_type": "code",
   "execution_count": null,
   "id": "502292f3-0e25-41bd-92fe-71f07fb937bb",
   "metadata": {
    "tags": []
   },
   "outputs": [],
   "source": [
    "df = pd.DataFrame(dataset[\"train\"].shuffle(42).select(range(...)))"
   ]
  },
  {
   "cell_type": "markdown",
   "id": "0e3320c8-ff31-470f-b402-a018ab2f9896",
   "metadata": {},
   "source": [
    "## Embedd sentences"
   ]
  },
  {
   "cell_type": "code",
   "execution_count": null,
   "id": "464592b5-6404-4cde-bff8-558c613cb73e",
   "metadata": {
    "tags": []
   },
   "outputs": [],
   "source": [
    "try:\n",
    "    from sentence_transformers import SentenceTransformer\n",
    "except:\n",
    "    install(\"sentence-transformers\")\n",
    "    from sentence_transformers import SentenceTransformer"
   ]
  },
  {
   "cell_type": "code",
   "execution_count": null,
   "id": "f4de79bf-61ce-4716-afed-e3bf7adcf134",
   "metadata": {
    "scrolled": true,
    "tags": []
   },
   "outputs": [],
   "source": [
    "model = SentenceTransformer(\"distiluse-base-multilingual-cased-v2\", device=\"...\")"
   ]
  },
  {
   "cell_type": "code",
   "execution_count": null,
   "id": "4bd43cb7-8bcc-48e3-88f7-07bfdcab5b34",
   "metadata": {
    "tags": []
   },
   "outputs": [],
   "source": [
    "sentence_embedding = model.encode(\"...\")"
   ]
  },
  {
   "cell_type": "code",
   "execution_count": null,
   "id": "e6a0f791-b315-478c-b9ba-26c625d237cc",
   "metadata": {
    "tags": []
   },
   "outputs": [],
   "source": [
    "sentence_embedding.shape"
   ]
  },
  {
   "cell_type": "markdown",
   "id": "86f8ca62-617f-4b9a-a3d7-8629bd6a0c53",
   "metadata": {},
   "source": [
    "## Get sentence embeddings for all texts"
   ]
  },
  {
   "cell_type": "code",
   "execution_count": null,
   "id": "9025d612-041e-4180-a992-e0a5968eb240",
   "metadata": {
    "tags": []
   },
   "outputs": [],
   "source": [
    "from tqdm import tqdm\n",
    "tqdm.pandas()"
   ]
  },
  {
   "cell_type": "code",
   "execution_count": null,
   "id": "9e6d2e3b-b56b-4500-bbb2-10c683e4289e",
   "metadata": {
    "tags": []
   },
   "outputs": [],
   "source": [
    "## use the encode method of sentence transformers\n",
    "df[\"embedding\"] = df[\"text\"].progress_apply()"
   ]
  },
  {
   "cell_type": "markdown",
   "id": "ba7cc3b6-ed75-4ca5-a652-b37e6a487a7d",
   "metadata": {},
   "source": [
    "## Let's reduce the dimensionality and visualize the data in 2d"
   ]
  },
  {
   "cell_type": "code",
   "execution_count": null,
   "id": "f5d1a96a-ad20-4f62-bd92-c76d7b31008f",
   "metadata": {
    "tags": []
   },
   "outputs": [],
   "source": [
    "try:\n",
    "    import umap\n",
    "except:\n",
    "    install(\"umap-learn\")\n",
    "    import umap"
   ]
  },
  {
   "cell_type": "code",
   "execution_count": null,
   "id": "0466c576-6eea-4c03-9534-41e3abf2720e",
   "metadata": {
    "tags": []
   },
   "outputs": [],
   "source": [
    "# reduce it to 2 dimensions\n",
    "\n",
    "def reduce_dimensions(embeddings,\n",
    "                      n_components=..,\n",
    "                      n_neighbors=8,\n",
    "                      random_state = 42):\n",
    "    \n",
    "    umap_embeddings = (umap.UMAP(n_neighbors=n_neighbors, \n",
    "                                n_components=n_components, \n",
    "                                metric='cosine',\n",
    "                                 n_epochs=10,\n",
    "                                random_state=random_state)\n",
    "                            .fit_transform(embeddings))\n",
    "    df = pd.DataFrame(umap_embeddings, index=embeddings.index)\n",
    "    return df"
   ]
  },
  {
   "cell_type": "code",
   "execution_count": null,
   "id": "9ab4e7ad-7cd1-4fd2-8f8c-5aedadc7e5da",
   "metadata": {
    "tags": []
   },
   "outputs": [],
   "source": [
    "#explode the embeddings\n",
    "embeddings = df[\"embedding\"].apply(pd.Series)"
   ]
  },
  {
   "cell_type": "code",
   "execution_count": null,
   "id": "e299273b-2278-4819-b93d-d81c542229d1",
   "metadata": {
    "tags": []
   },
   "outputs": [],
   "source": [
    "embeddings_2d = reduce_dimensions(embeddings)"
   ]
  },
  {
   "cell_type": "code",
   "execution_count": null,
   "id": "f98b7de8-357f-42f6-b62b-5f7f1823ce9b",
   "metadata": {
    "tags": []
   },
   "outputs": [],
   "source": [
    "embeddings_2d"
   ]
  },
  {
   "cell_type": "markdown",
   "id": "cef2bebe-1378-4713-b844-b5836382e5e7",
   "metadata": {},
   "source": [
    "### Let's visualize them..."
   ]
  },
  {
   "cell_type": "code",
   "execution_count": null,
   "id": "6e506e8b-844b-4734-9789-ce0c0f6ba108",
   "metadata": {
    "tags": []
   },
   "outputs": [],
   "source": [
    "import seaborn as sns"
   ]
  },
  {
   "cell_type": "code",
   "execution_count": null,
   "id": "ad72415a-d9ed-4ab8-acb5-1d5b05cc26fb",
   "metadata": {
    "tags": []
   },
   "outputs": [],
   "source": [
    "sns.scatterplot(embeddings_2d, x=0, y=1)"
   ]
  },
  {
   "cell_type": "markdown",
   "id": "05b1b921-be84-4a2b-bfb4-5ce41c3e314f",
   "metadata": {},
   "source": [
    "Nice, let's see if we can cluster them...."
   ]
  },
  {
   "cell_type": "code",
   "execution_count": null,
   "id": "b6026c28-2b06-4731-8ef2-3a06c6a09c28",
   "metadata": {
    "tags": []
   },
   "outputs": [],
   "source": [
    "from sklearn.cluster import AgglomerativeClustering"
   ]
  },
  {
   "cell_type": "code",
   "execution_count": null,
   "id": "b846ca1d-00f8-4f9d-a631-594b8883b724",
   "metadata": {
    "tags": []
   },
   "outputs": [],
   "source": [
    "clst = AgglomerativeClustering(n_clusters=10)"
   ]
  },
  {
   "cell_type": "code",
   "execution_count": null,
   "id": "29476591-547b-4f65-8011-25f444d332ad",
   "metadata": {
    "tags": []
   },
   "outputs": [],
   "source": [
    "clusters = clst.fit_predict(embeddings)"
   ]
  },
  {
   "cell_type": "markdown",
   "id": "4ae66afd-dccd-4847-ab5a-fda1762b543d",
   "metadata": {},
   "source": [
    "## Let's assign the clusters to the visualization"
   ]
  },
  {
   "cell_type": "code",
   "execution_count": null,
   "id": "aaec9ce1-41cd-4e7b-b2f4-6a8543ff021f",
   "metadata": {
    "tags": []
   },
   "outputs": [],
   "source": [
    "sns.scatterplot(embeddings_2d, x=0, y=1, c=clusters)"
   ]
  },
  {
   "cell_type": "markdown",
   "id": "0cebcf75-75a2-40da-adba-06ecbc6dcf4a",
   "metadata": {},
   "source": [
    "## Now, let's review the contents of the clusters..."
   ]
  },
  {
   "cell_type": "code",
   "execution_count": null,
   "id": "4b843b42-81fa-4f90-847a-dd0d1e67a0e3",
   "metadata": {
    "tags": []
   },
   "outputs": [],
   "source": [
    "df[\"cluster\"] = clusters"
   ]
  },
  {
   "cell_type": "code",
   "execution_count": null,
   "id": "8f4b7ace-093c-4532-ae2c-ae3b317af03f",
   "metadata": {
    "tags": []
   },
   "outputs": [],
   "source": [
    "df.sort_values(by=\"cluster\")"
   ]
  },
  {
   "cell_type": "code",
   "execution_count": null,
   "id": "a1a977c8-35dd-44b1-a40a-616762ce8cd7",
   "metadata": {
    "tags": []
   },
   "outputs": [],
   "source": [
    "df.loc[df[\"cluster\"] == 9, \"text\"]"
   ]
  }
 ],
 "metadata": {
  "kernelspec": {
   "display_name": "Python 3 (ipykernel)",
   "language": "python",
   "name": "python3"
  },
  "language_info": {
   "codemirror_mode": {
    "name": "ipython",
    "version": 3
   },
   "file_extension": ".py",
   "mimetype": "text/x-python",
   "name": "python",
   "nbconvert_exporter": "python",
   "pygments_lexer": "ipython3",
   "version": "3.9.6"
  }
 },
 "nbformat": 4,
 "nbformat_minor": 5
}
