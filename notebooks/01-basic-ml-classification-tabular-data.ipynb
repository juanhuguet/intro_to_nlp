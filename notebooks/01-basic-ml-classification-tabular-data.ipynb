{
 "cells": [
  {
   "cell_type": "markdown",
   "id": "808eeeed-c7b3-41f8-8afc-569a716af4bc",
   "metadata": {},
   "source": [
    "[![Open In Colab](https://colab.research.google.com/assets/colab-badge.svg)](https://colab.research.google.com/github/juanhuguet/intro_to_nlp/blob/main/notebooks/01-basic-ml-classification-tabular-data.ipynb)"
   ]
  },
  {
   "cell_type": "markdown",
   "id": "dfd09859-3499-42a5-97e4-7bc523ba1f22",
   "metadata": {},
   "source": [
    "# A gentle reminder on machine learning"
   ]
  },
  {
   "cell_type": "markdown",
   "id": "a744c801-746c-4b7e-90b0-01317883ad51",
   "metadata": {},
   "source": [
    "👉🏼 We can understand a ML algorithm as **an algorithm that changes its internal state** to find the best **mapping** between an output variable and its input features."
   ]
  },
  {
   "cell_type": "markdown",
   "id": "77e9fad9-8308-4a4c-a169-250c0be5e035",
   "metadata": {},
   "source": [
    "<img src=\"https://file.notion.so/f/f/003df94c-172d-46b4-9c84-4a2f90ef0ed1/6a100a7c-43b1-48f6-86ba-3e80f30a1eb7/Screenshot_2023-05-02_at_20.33.28.png?id=528fb93a-95de-4ede-b053-532280f0aeff&table=block&spaceId=003df94c-172d-46b4-9c84-4a2f90ef0ed1&expirationTimestamp=1705615200000&signature=3S_88DvpU2Hc6tSlN0KBYtpF-gsuPD7490F_mLXfMn0&downloadName=Screenshot+2023-05-02+at+20.33.28.png\" width=\"400\" height=\"200\">"
   ]
  },
  {
   "cell_type": "markdown",
   "id": "1c111f5a-b656-4112-a63e-d8091a5c3b28",
   "metadata": {},
   "source": [
    "Just for demonstration purposes, we are going to train a small classifier over tabular data."
   ]
  },
  {
   "cell_type": "markdown",
   "id": "289ef90e-98e5-4c10-9d96-a0b45da02c07",
   "metadata": {},
   "source": [
    "# Load the needed libraries"
   ]
  },
  {
   "cell_type": "code",
   "execution_count": null,
   "id": "7acc9ba8-3432-40cb-a077-9685b2dc3afd",
   "metadata": {},
   "outputs": [],
   "source": [
    "from sklearn.linear_model import ... # import the most basic linear model for classification\n",
    "from sklearn.model_selection import ... # import the utility to split in train and test"
   ]
  },
  {
   "cell_type": "markdown",
   "id": "b5f34a33-16df-44e0-8188-e8f4d4b4a08c",
   "metadata": {},
   "source": [
    "[yellowbrick](https://www.scikit-yb.org/en/latest/) is a sklearn wrapper that gives visualization super powers to your machine learning projects.\n",
    "\n",
    "**Very useful for prototyping and the experimentation stage**\n"
   ]
  },
  {
   "cell_type": "markdown",
   "id": "2e750b82-cd7b-4031-ba84-9242fdac2fec",
   "metadata": {},
   "source": [
    "Import a sample dataset..."
   ]
  },
  {
   "cell_type": "code",
   "execution_count": null,
   "id": "87514fb5-0233-4aef-94df-729a5a1d6330",
   "metadata": {
    "tags": []
   },
   "outputs": [],
   "source": [
    "from yellowbrick.datasets import load_credit"
   ]
  },
  {
   "cell_type": "markdown",
   "id": "f49c4d54-250a-4933-ad57-ad5d72b1dfee",
   "metadata": {},
   "source": [
    "Import the metrics, as we are dealing with a binary classification we will evaluate it using the ROC-AUC."
   ]
  },
  {
   "cell_type": "code",
   "execution_count": null,
   "id": "74eef8bd-87d3-44fd-b5e2-245bfd10e9ba",
   "metadata": {
    "tags": []
   },
   "outputs": [],
   "source": [
    "from yellowbrick.classifier.rocauc import ... # roc_auc"
   ]
  },
  {
   "cell_type": "markdown",
   "id": "7f8a7b45-6733-4b3e-b2aa-15c3ab48b901",
   "metadata": {},
   "source": [
    "# Load data"
   ]
  },
  {
   "cell_type": "code",
   "execution_count": null,
   "id": "1f107e8c-bb23-45b1-bf16-7a865f95126e",
   "metadata": {
    "tags": []
   },
   "outputs": [],
   "source": [
    "X, y = load_credit()"
   ]
  },
  {
   "cell_type": "code",
   "execution_count": null,
   "id": "76660d16-b532-4bd8-a1bf-15fb91463358",
   "metadata": {
    "tags": []
   },
   "outputs": [],
   "source": [
    "# Review the samples and feature. X is a pandas dataframe\n",
    "\n",
    "..."
   ]
  },
  {
   "cell_type": "code",
   "execution_count": null,
   "id": "a5441fd4-d3e7-489c-a224-02562aa6d27d",
   "metadata": {
    "tags": []
   },
   "outputs": [],
   "source": [
    "# Now, review the target\n",
    "\n",
    "..."
   ]
  },
  {
   "cell_type": "markdown",
   "id": "1ad89ca2-2f01-4bda-b9f4-ab6e1b5a9885",
   "metadata": {},
   "source": [
    "## Create the train and test data"
   ]
  },
  {
   "cell_type": "code",
   "execution_count": null,
   "id": "2ccbbd0c-d8fd-4d80-9621-41dbc37cd5fb",
   "metadata": {
    "tags": []
   },
   "outputs": [],
   "source": [
    "X_train, X_test, y_train, y_test = train_test_split(X, y, test_size=..., stratify=...)"
   ]
  },
  {
   "cell_type": "code",
   "execution_count": null,
   "id": "b666e2de-8899-4028-b8f6-e48bdf6a82a1",
   "metadata": {
    "tags": []
   },
   "outputs": [],
   "source": [
    "model = LogisticRegression(multi_class=\"auto\", solver=\"liblinear\")"
   ]
  },
  {
   "cell_type": "code",
   "execution_count": null,
   "id": "2e44faf0-55f7-41b9-a328-4658e7b1db44",
   "metadata": {
    "tags": []
   },
   "outputs": [],
   "source": [
    "roc_auc(model,\n",
    "        X_train,\n",
    "        y_train,\n",
    "        X_test=X_test,\n",
    "        y_test=y_test,\n",
    "        classes=['not_defaulted', 'defaulted']\n",
    "       )"
   ]
  }
 ],
 "metadata": {
  "kernelspec": {
   "display_name": "Python 3 (ipykernel)",
   "language": "python",
   "name": "python3"
  },
  "language_info": {
   "codemirror_mode": {
    "name": "ipython",
    "version": 3
   },
   "file_extension": ".py",
   "mimetype": "text/x-python",
   "name": "python",
   "nbconvert_exporter": "python",
   "pygments_lexer": "ipython3",
   "version": "3.9.6"
  }
 },
 "nbformat": 4,
 "nbformat_minor": 5
}
