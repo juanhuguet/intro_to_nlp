{
 "cells": [
  {
   "cell_type": "markdown",
   "id": "c6eb077e-5599-4227-aa81-221ce62f5e17",
   "metadata": {},
   "source": [
    "[![Open In Colab](https://colab.research.google.com/assets/colab-badge.svg)](https://colab.research.google.com/github/juanhuguet/intro_to_nlp/blob/main/notebooks/02-basic-sentiment-classification-dictionary.ipynb)"
   ]
  },
  {
   "cell_type": "markdown",
   "id": "abd8eebd-9d54-4bfa-8286-71a8af13b1cd",
   "metadata": {},
   "source": [
    "# How do we make machines read text"
   ]
  },
  {
   "cell_type": "markdown",
   "id": "01edd03d-ec12-4da8-b081-e39d78f53656",
   "metadata": {},
   "source": [
    "We have seen that machine learning models are devised to be used with numerical data.\n",
    "\n",
    "**We need then to find a numerical representation for textual data.**\n",
    "\n",
    "Let’s make a simple example for a sentiment classification."
   ]
  },
  {
   "cell_type": "markdown",
   "id": "ba4bd420-25e0-41dc-a381-9b00812cdaaa",
   "metadata": {},
   "source": [
    "Let’s say we have the next restaurant review:\n",
    "\n",
    "> ”Overall the restaurant is very good as the food was tasty and good even though the service was bad.”"
   ]
  },
  {
   "cell_type": "markdown",
   "id": "c79141c7-1acb-4971-96b5-146b05cc08d0",
   "metadata": {},
   "source": [
    "We could use a simple approach, which is, **count how many positive or negative words we have** and calculate the overall sentiment.\n",
    "\n",
    "1. First, you need to choose a sentiment dictionary that maps words to sentiment scores. A popular choice is the AFINN lexicon, which assigns a score to words between -5 (very negative) and 5 (very positive).\n",
    "2. Next, you need to count the occurrence of each word in your text. You can do this by tokenizing the text into words and then counting the frequency of each word.\n",
    "3. Finally, you can calculate the sentiment score of the text by summing the sentiment scores of each word, weighted by its frequency. \n",
    "    \n",
    "    \n",
    "    | Word | Word Score | Num Occur | Total |\n",
    "    | --- | --- | --- | --- |\n",
    "    | good | 3 | 2 | 6 |\n",
    "    | tasty | 1 | 1 | 1 |\n",
    "    | bad | -3 | 1 | -3 |\n",
    "    |  |  | Total | 4 |\n",
    "4. You can then classify the text as positive, negative, or neutral based on the sentiment score. For example, you could say that a score greater than 0 is positive, less than 0 is negative, and 0 is neutral."
   ]
  },
  {
   "cell_type": "markdown",
   "id": "8cf23a68-09df-41f6-9888-f8f95e61df57",
   "metadata": {},
   "source": [
    "## Load the lexicon"
   ]
  },
  {
   "cell_type": "code",
   "execution_count": 1,
   "id": "b6260864-47b9-4efa-aee3-c5b2fa5cd3d4",
   "metadata": {
    "tags": []
   },
   "outputs": [],
   "source": [
    "import pandas as pd"
   ]
  },
  {
   "cell_type": "code",
   "execution_count": 2,
   "id": "1689a58b-27f8-457d-b782-7a17568cf43e",
   "metadata": {
    "tags": []
   },
   "outputs": [],
   "source": [
    "sentiment = pd.read_csv(\"afinn/afinn-111.csv\")"
   ]
  },
  {
   "cell_type": "code",
   "execution_count": 3,
   "id": "4bffda3c-169c-40a8-9e99-dc92d10a9b5c",
   "metadata": {
    "scrolled": true,
    "tags": []
   },
   "outputs": [],
   "source": [
    "WORD_SENTIMENTS_DICT = sentiment.set_index(\"word\")[\"sentiment_score\"].to_dict()"
   ]
  },
  {
   "cell_type": "markdown",
   "id": "4d9037b2-6844-4707-aac7-04baf8b7aa7b",
   "metadata": {},
   "source": [
    "## Create a tokenizer function\n",
    "\n",
    "Basically, split by words"
   ]
  },
  {
   "cell_type": "code",
   "execution_count": 4,
   "id": "f12df058-74f4-4468-8cd4-75f38d88dc64",
   "metadata": {
    "tags": []
   },
   "outputs": [],
   "source": [
    "def tokenizer(text):\n",
    "    return text.split(\" \")"
   ]
  },
  {
   "cell_type": "code",
   "execution_count": 5,
   "id": "d9ca2d9e-6ef9-4dea-bfc9-90b5a4a5bcb5",
   "metadata": {
    "tags": []
   },
   "outputs": [
    {
     "data": {
      "text/plain": [
       "['the', 'food', 'was', 'bad']"
      ]
     },
     "execution_count": 5,
     "metadata": {},
     "output_type": "execute_result"
    }
   ],
   "source": [
    "tokenizer(\"the food was bad\")"
   ]
  },
  {
   "cell_type": "markdown",
   "id": "761ee021-3c96-453a-b085-62ed0b9de64c",
   "metadata": {},
   "source": [
    "## Calculate word frequencies in the text to classify\n"
   ]
  },
  {
   "cell_type": "code",
   "execution_count": 6,
   "id": "b5e6e528-27ef-4e86-b754-2509a7bbcb4a",
   "metadata": {
    "tags": []
   },
   "outputs": [],
   "source": [
    "def word_freq_dict(tokenized_text):\n",
    "    freqs = {}\n",
    "    for w in tokenized_text:\n",
    "        if w in freqs:\n",
    "            freqs[w] += 1\n",
    "        else:\n",
    "            freqs[w] = 1\n",
    "    return freqs"
   ]
  },
  {
   "cell_type": "code",
   "execution_count": 7,
   "id": "22768d12-f70c-4964-9f7f-3e07a79dc57f",
   "metadata": {
    "tags": []
   },
   "outputs": [
    {
     "data": {
      "text/plain": [
       "{'this': 1, 'is': 1, 'a': 1, 'bad': 1, 'test': 1}"
      ]
     },
     "execution_count": 7,
     "metadata": {},
     "output_type": "execute_result"
    }
   ],
   "source": [
    "tokenized_test = tokenizer(\"this is a bad test\")\n",
    "\n",
    "word_freqs = word_freq_dict(tokenized_test)\n",
    "\n",
    "word_freqs"
   ]
  },
  {
   "cell_type": "markdown",
   "id": "38054081-fd50-4c15-ac2a-3081ac821b59",
   "metadata": {},
   "source": [
    "## Assign to each word a score\n",
    "score = freq_word * afinn_score "
   ]
  },
  {
   "cell_type": "code",
   "execution_count": 8,
   "id": "ebf35578-e458-4bc6-96d8-777cebc79537",
   "metadata": {
    "tags": []
   },
   "outputs": [],
   "source": [
    "def assign_word_score(word_freq):\n",
    "    scores = {}\n",
    "    for word, num_appearances in word_freq.items():\n",
    "        sentiment_weight = WORD_SENTIMENTS_DICT.get(word, 0)\n",
    "        scores[word] = sentiment_weight * num_appearances\n",
    "    return scores"
   ]
  },
  {
   "cell_type": "code",
   "execution_count": 9,
   "id": "828af4bf-8112-4a99-bc27-dc5ebabf4c1c",
   "metadata": {
    "tags": []
   },
   "outputs": [],
   "source": [
    "word_scores = assign_word_score(word_freq=word_freqs)"
   ]
  },
  {
   "cell_type": "code",
   "execution_count": 10,
   "id": "de5acf62-7be1-4fca-bb2a-c2e34ffa6b47",
   "metadata": {
    "tags": []
   },
   "outputs": [
    {
     "data": {
      "text/plain": [
       "{'this': 0, 'is': 0, 'a': 0, 'bad': -3, 'test': 0}"
      ]
     },
     "execution_count": 10,
     "metadata": {},
     "output_type": "execute_result"
    }
   ],
   "source": [
    "word_scores"
   ]
  },
  {
   "cell_type": "markdown",
   "id": "63f7c5fa-42c3-4376-834e-f5cbc44a9fb7",
   "metadata": {},
   "source": [
    "## Calculat the total score by summing all the sentiment scores"
   ]
  },
  {
   "cell_type": "code",
   "execution_count": 11,
   "id": "becc19c1-9676-423f-9596-47580b92b9af",
   "metadata": {
    "tags": []
   },
   "outputs": [],
   "source": [
    "def calculate_total_sentiment_score(scores):\n",
    "    return sum(scores.values())"
   ]
  },
  {
   "cell_type": "code",
   "execution_count": 12,
   "id": "8152e988-deb6-42bc-b329-5de9ff827019",
   "metadata": {
    "tags": []
   },
   "outputs": [
    {
     "data": {
      "text/plain": [
       "-3"
      ]
     },
     "execution_count": 12,
     "metadata": {},
     "output_type": "execute_result"
    }
   ],
   "source": [
    "total_score = calculate_total_sentiment_score(word_scores)\n",
    "\n",
    "total_score"
   ]
  },
  {
   "cell_type": "markdown",
   "id": "01f21fa9-b06e-4aa6-afb2-839278464e8d",
   "metadata": {},
   "source": [
    "## Now, just create the decission function"
   ]
  },
  {
   "cell_type": "code",
   "execution_count": 13,
   "id": "5e09c35a-8842-40dd-b4dd-950749183ebc",
   "metadata": {
    "tags": []
   },
   "outputs": [],
   "source": [
    "def assign_sentiment(total_score, threshold=0):\n",
    "    if total_score > threshold:\n",
    "        return \"positive\"\n",
    "    elif total_score == 0:\n",
    "        return \"neutral\"\n",
    "    else:\n",
    "        return \"negative\""
   ]
  },
  {
   "cell_type": "code",
   "execution_count": 14,
   "id": "1c442258-3567-4c08-9ddb-fdb76938530e",
   "metadata": {
    "tags": []
   },
   "outputs": [
    {
     "data": {
      "text/plain": [
       "'negative'"
      ]
     },
     "execution_count": 14,
     "metadata": {},
     "output_type": "execute_result"
    }
   ],
   "source": [
    "assign_sentiment(total_score)"
   ]
  },
  {
   "cell_type": "markdown",
   "id": "e8367f11-c41c-4c4f-bfa6-da5b29e3e223",
   "metadata": {},
   "source": [
    "## Finally, let's put it all together"
   ]
  },
  {
   "cell_type": "code",
   "execution_count": 15,
   "id": "75dd9b32-c8b0-40d5-a8a1-77a2b82862d1",
   "metadata": {
    "tags": []
   },
   "outputs": [],
   "source": [
    "def classify_review(text):\n",
    "    tokenized_text = tokenizer(text)\n",
    "    freqs = word_freq_dict(tokenized_text)\n",
    "    scores = assign_word_score(freqs)\n",
    "    total_score = calculate_total_sentiment_score(scores)\n",
    "    sentiment = assign_sentiment(total_score)\n",
    "    return sentiment, total_score"
   ]
  },
  {
   "cell_type": "code",
   "execution_count": 16,
   "id": "3be28bc2-dbae-4e5f-939a-700fc00ac45e",
   "metadata": {
    "tags": []
   },
   "outputs": [],
   "source": [
    "text = \"the movie was dull and bad though the actors where good\""
   ]
  },
  {
   "cell_type": "code",
   "execution_count": 17,
   "id": "afa6b4e6-1200-4d96-a307-5430cfec5e6c",
   "metadata": {
    "tags": []
   },
   "outputs": [
    {
     "data": {
      "text/plain": [
       "('negative', -2)"
      ]
     },
     "execution_count": 17,
     "metadata": {},
     "output_type": "execute_result"
    }
   ],
   "source": [
    "classify_review(text)"
   ]
  },
  {
   "cell_type": "markdown",
   "id": "8a346ee3-a000-425f-92f0-902cf06baf37",
   "metadata": {},
   "source": [
    "> Think! What are the main limitations of such approximation ?"
   ]
  }
 ],
 "metadata": {
  "kernelspec": {
   "display_name": "Python 3 (ipykernel)",
   "language": "python",
   "name": "python3"
  },
  "language_info": {
   "codemirror_mode": {
    "name": "ipython",
    "version": 3
   },
   "file_extension": ".py",
   "mimetype": "text/x-python",
   "name": "python",
   "nbconvert_exporter": "python",
   "pygments_lexer": "ipython3",
   "version": "3.9.6"
  }
 },
 "nbformat": 4,
 "nbformat_minor": 5
}
