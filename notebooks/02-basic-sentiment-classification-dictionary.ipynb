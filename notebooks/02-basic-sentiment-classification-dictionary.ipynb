{
 "cells": [
  {
   "cell_type": "markdown",
   "id": "c6eb077e-5599-4227-aa81-221ce62f5e17",
   "metadata": {},
   "source": [
    "[![Open In Colab](https://colab.research.google.com/assets/colab-badge.svg)](https://colab.research.google.com/github/juanhuguet/intro_to_nlp/blob/main/notebooks/02-basic-sentiment-classification-dictionary.ipynb)"
   ]
  },
  {
   "cell_type": "code",
   "execution_count": 1,
   "id": "34134ef9-025f-42c1-99b3-10448c020526",
   "metadata": {
    "tags": []
   },
   "outputs": [],
   "source": [
    "WORD_SENTIMENTS_DICT = {\"good\": 3,\n",
    "                        \"bad\": -3,\n",
    "                        \"tasty\": 1,\n",
    "                        \"cold\": -1,\n",
    "                        \"nice\": 2,\n",
    "                        \"noisy\": -2\n",
    "                       }"
   ]
  },
  {
   "cell_type": "code",
   "execution_count": 2,
   "id": "f12df058-74f4-4468-8cd4-75f38d88dc64",
   "metadata": {
    "tags": []
   },
   "outputs": [],
   "source": [
    "def tokenizer(text):\n",
    "    return text.split(\" \")"
   ]
  },
  {
   "cell_type": "code",
   "execution_count": 3,
   "id": "b5e6e528-27ef-4e86-b754-2509a7bbcb4a",
   "metadata": {
    "tags": []
   },
   "outputs": [],
   "source": [
    "def word_freq_dict(tokenized_text):\n",
    "    freqs = {}\n",
    "    for w in tokenized_text:\n",
    "        if w in freqs:\n",
    "            freqs[w] += 1\n",
    "        else:\n",
    "            freqs[w] = 1\n",
    "    return freqs"
   ]
  },
  {
   "cell_type": "code",
   "execution_count": 4,
   "id": "ebf35578-e458-4bc6-96d8-777cebc79537",
   "metadata": {
    "tags": []
   },
   "outputs": [],
   "source": [
    "def assign_word_score(word_freq):\n",
    "    scores = {}\n",
    "    for word, num_appearances in word_freq.items():\n",
    "        sentiment_weight = WORD_SENTIMENTS_DICT.get(word, 0)\n",
    "        scores[word] = sentiment_weight * num_appearances\n",
    "    return scores"
   ]
  },
  {
   "cell_type": "code",
   "execution_count": 5,
   "id": "becc19c1-9676-423f-9596-47580b92b9af",
   "metadata": {
    "tags": []
   },
   "outputs": [],
   "source": [
    "def calculate_total_sentiment_score(scores):\n",
    "    return sum(scores.values())"
   ]
  },
  {
   "cell_type": "code",
   "execution_count": 6,
   "id": "5e09c35a-8842-40dd-b4dd-950749183ebc",
   "metadata": {
    "tags": []
   },
   "outputs": [],
   "source": [
    "def assign_sentiment(total_score, threshold=0):\n",
    "    if total_score > threshold:\n",
    "        return \"positive\"\n",
    "    else:\n",
    "        return \"negative\""
   ]
  },
  {
   "cell_type": "code",
   "execution_count": 7,
   "id": "3be28bc2-dbae-4e5f-939a-700fc00ac45e",
   "metadata": {
    "tags": []
   },
   "outputs": [],
   "source": [
    "text = \"the food was good and the service was good but the ambient was noisy\""
   ]
  },
  {
   "cell_type": "code",
   "execution_count": 8,
   "id": "de8f45c5-4254-4be3-a97c-5cfcf763aa92",
   "metadata": {
    "tags": []
   },
   "outputs": [],
   "source": [
    "tokenized_text = tokenizer(text)"
   ]
  },
  {
   "cell_type": "code",
   "execution_count": 9,
   "id": "dffdbbd0-39c9-44dc-87c2-56ead241b7b3",
   "metadata": {
    "tags": []
   },
   "outputs": [
    {
     "data": {
      "text/plain": [
       "['the',\n",
       " 'food',\n",
       " 'was',\n",
       " 'good',\n",
       " 'and',\n",
       " 'the',\n",
       " 'service',\n",
       " 'was',\n",
       " 'good',\n",
       " 'but',\n",
       " 'the',\n",
       " 'ambient',\n",
       " 'was',\n",
       " 'noisy']"
      ]
     },
     "execution_count": 9,
     "metadata": {},
     "output_type": "execute_result"
    }
   ],
   "source": [
    "tokenized_text"
   ]
  },
  {
   "cell_type": "code",
   "execution_count": 10,
   "id": "a84b67dd-5018-4709-89a0-9aecf79e04c8",
   "metadata": {
    "tags": []
   },
   "outputs": [],
   "source": [
    "words_freqs = word_freq_dict(tokenized_text)"
   ]
  },
  {
   "cell_type": "code",
   "execution_count": 11,
   "id": "55520d43-3472-4497-9dfe-bceae41e6c6a",
   "metadata": {
    "tags": []
   },
   "outputs": [
    {
     "data": {
      "text/plain": [
       "{'the': 3,\n",
       " 'food': 1,\n",
       " 'was': 3,\n",
       " 'good': 2,\n",
       " 'and': 1,\n",
       " 'service': 1,\n",
       " 'but': 1,\n",
       " 'ambient': 1,\n",
       " 'noisy': 1}"
      ]
     },
     "execution_count": 11,
     "metadata": {},
     "output_type": "execute_result"
    }
   ],
   "source": [
    "words_freqs"
   ]
  },
  {
   "cell_type": "code",
   "execution_count": 12,
   "id": "e7bc69d0-6bd7-451f-9a5f-c8b1088341e9",
   "metadata": {
    "tags": []
   },
   "outputs": [],
   "source": [
    "scores = assign_word_score(words_freqs)"
   ]
  },
  {
   "cell_type": "code",
   "execution_count": 13,
   "id": "af9b43c2-897a-4c5c-8fc4-e8c398d1df0f",
   "metadata": {
    "tags": []
   },
   "outputs": [
    {
     "data": {
      "text/plain": [
       "{'the': 0,\n",
       " 'food': 0,\n",
       " 'was': 0,\n",
       " 'good': 6,\n",
       " 'and': 0,\n",
       " 'service': 0,\n",
       " 'but': 0,\n",
       " 'ambient': 0,\n",
       " 'noisy': -2}"
      ]
     },
     "execution_count": 13,
     "metadata": {},
     "output_type": "execute_result"
    }
   ],
   "source": [
    "scores"
   ]
  },
  {
   "cell_type": "code",
   "execution_count": 14,
   "id": "de74bddc-ecc9-480d-b544-96bd1ba7dc40",
   "metadata": {
    "tags": []
   },
   "outputs": [
    {
     "data": {
      "text/plain": [
       "4"
      ]
     },
     "execution_count": 14,
     "metadata": {},
     "output_type": "execute_result"
    }
   ],
   "source": [
    "calculate_total_sentiment_score(scores)"
   ]
  },
  {
   "cell_type": "code",
   "execution_count": 15,
   "id": "77592c90-368c-48c2-b922-e324205e43e1",
   "metadata": {
    "tags": []
   },
   "outputs": [],
   "source": [
    "def classify_review(text):\n",
    "    tokenized_text = tokenizer(text)\n",
    "    freqs = word_freq_dict(tokenized_text)\n",
    "    scores = assign_word_score(freqs)\n",
    "    total_score = calculate_total_sentiment_score(scores)\n",
    "    sentiment = assign_sentiment(total_score)\n",
    "    return sentiment"
   ]
  },
  {
   "cell_type": "code",
   "execution_count": 16,
   "id": "afa6b4e6-1200-4d96-a307-5430cfec5e6c",
   "metadata": {
    "tags": []
   },
   "outputs": [
    {
     "data": {
      "text/plain": [
       "'positive'"
      ]
     },
     "execution_count": 16,
     "metadata": {},
     "output_type": "execute_result"
    }
   ],
   "source": [
    "classify_review(text)"
   ]
  },
  {
   "cell_type": "code",
   "execution_count": null,
   "id": "4001e78e-1cda-4169-99dd-815bbd07ef5a",
   "metadata": {},
   "outputs": [],
   "source": []
  }
 ],
 "metadata": {
  "kernelspec": {
   "display_name": "Python 3 (ipykernel)",
   "language": "python",
   "name": "python3"
  },
  "language_info": {
   "codemirror_mode": {
    "name": "ipython",
    "version": 3
   },
   "file_extension": ".py",
   "mimetype": "text/x-python",
   "name": "python",
   "nbconvert_exporter": "python",
   "pygments_lexer": "ipython3",
   "version": "3.9.16"
  }
 },
 "nbformat": 4,
 "nbformat_minor": 5
}
